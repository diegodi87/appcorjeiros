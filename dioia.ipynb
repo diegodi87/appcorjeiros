{
  "nbformat": 4,
  "nbformat_minor": 0,
  "metadata": {
    "colab": {
      "provenance": [],
      "authorship_tag": "ABX9TyOnbicbIg8C39xDOvz7s4fY",
      "include_colab_link": true
    },
    "kernelspec": {
      "name": "python3",
      "display_name": "Python 3"
    },
    "language_info": {
      "name": "python"
    }
  },
  "cells": [
    {
      "cell_type": "markdown",
      "metadata": {
        "id": "view-in-github",
        "colab_type": "text"
      },
      "source": [
        "<a href=\"https://colab.research.google.com/github/diegodi87/appcorjeiros/blob/main/dioia.ipynb\" target=\"_parent\"><img src=\"https://colab.research.google.com/assets/colab-badge.svg\" alt=\"Open In Colab\"/></a>"
      ]
    },
    {
      "cell_type": "code",
      "source": [
        "!pip install requests python-docx\n"
      ],
      "metadata": {
        "colab": {
          "base_uri": "https://localhost:8080/"
        },
        "id": "j4xugSWEadmA",
        "outputId": "9778a0a7-79fa-4f5b-8895-d23292d0fd74"
      },
      "execution_count": null,
      "outputs": [
        {
          "output_type": "stream",
          "name": "stdout",
          "text": [
            "Requirement already satisfied: requests in /usr/local/lib/python3.10/dist-packages (2.32.3)\n",
            "Collecting python-docx\n",
            "  Downloading python_docx-1.1.2-py3-none-any.whl.metadata (2.0 kB)\n",
            "Requirement already satisfied: charset-normalizer<4,>=2 in /usr/local/lib/python3.10/dist-packages (from requests) (3.4.0)\n",
            "Requirement already satisfied: idna<4,>=2.5 in /usr/local/lib/python3.10/dist-packages (from requests) (3.10)\n",
            "Requirement already satisfied: urllib3<3,>=1.21.1 in /usr/local/lib/python3.10/dist-packages (from requests) (2.2.3)\n",
            "Requirement already satisfied: certifi>=2017.4.17 in /usr/local/lib/python3.10/dist-packages (from requests) (2024.8.30)\n",
            "Requirement already satisfied: lxml>=3.1.0 in /usr/local/lib/python3.10/dist-packages (from python-docx) (5.3.0)\n",
            "Requirement already satisfied: typing-extensions>=4.9.0 in /usr/local/lib/python3.10/dist-packages (from python-docx) (4.12.2)\n",
            "Downloading python_docx-1.1.2-py3-none-any.whl (244 kB)\n",
            "\u001b[2K   \u001b[90m━━━━━━━━━━━━━━━━━━━━━━━━━━━━━━━━━━━━━━━━\u001b[0m \u001b[32m244.3/244.3 kB\u001b[0m \u001b[31m3.5 MB/s\u001b[0m eta \u001b[36m0:00:00\u001b[0m\n",
            "\u001b[?25hInstalling collected packages: python-docx\n",
            "Successfully installed python-docx-1.1.2\n"
          ]
        }
      ]
    },
    {
      "cell_type": "code",
      "source": [
        "import requests\n",
        "from docx import Document\n",
        "import os\n",
        "\n",
        "subscription_key = \"5GEc9wL2cnIYmJ3XmNGZ8XjQpKerIghlGJYRMzYGQOQQlOWLGzVaJQQJ99ALACHYHv6XJ3w3AAAbACOGAVz0\"\n",
        "endpoint = \"https://api.cognitive.microsofttranslator.com/\"\n",
        "location =  \"eastus2\"\n",
        "language_destination = \"pt-br\"\n",
        "\n",
        "def translator_text(text, language_destination):\n",
        "  path = '/translate'\n",
        "  constructed_url = endpoint + path\n",
        "  headers = {\n",
        "      'ocp-apim-subscription-key' : subscription_key,\n",
        "      'Ocp-Apim-Subscription-Region' : location,\n",
        "      'Content-type' : 'application/json',\n",
        "      'X-ClientTraceId' : str(os.urandom(16))\n",
        "  }\n",
        "  body = [{\n",
        "      'text' : text\n",
        "  }]\n",
        "\n",
        "  params = {\n",
        "    'api-version': '3.0',\n",
        "    'from': 'es',\n",
        "    'to': language_destination\n",
        "  }\n",
        "  request = requests.post(constructed_url, params=params, headers=headers, json=body)\n",
        "  response = request.json()\n",
        "  return response[0][\"translations\"][0][\"text\"]\n",
        "\n",
        "  def translator_document(path):\n",
        "    document = Document(path)\n",
        "    full_text = []\n",
        "    for paragraph in document.paragraphs:\n",
        "      translated_text = translator_text(paragraph.text, language_destination)\n",
        "      full_text.append(translated_text)\n",
        "\n",
        "    translated_doc = Document()\n",
        "    for line in full_text:\n",
        "      translated_doc.add_paragraph(line)\n",
        "    path_translated = path.replace(\".docx\", f\"_{language_destination}.docx\")\n",
        "    translated_doc.save(path_translated)\n",
        "    return path_translated\n",
        "input_file = \"/content/Sure.docx\"\n",
        "translator_document(input_file, \"pt-br\")\n"
      ],
      "metadata": {
        "colab": {
          "base_uri": "https://localhost:8080/",
          "height": 35
        },
        "id": "_u1BrgKgbFEe",
        "outputId": "c9c614d9-9e97-4881-d09b-0a8e5d2f1380"
      },
      "execution_count": 53,
      "outputs": [
        {
          "output_type": "execute_result",
          "data": {
            "text/plain": [
              "'/conteúdo/Sure.docx'"
            ],
            "application/vnd.google.colaboratory.intrinsic+json": {
              "type": "string"
            }
          },
          "metadata": {},
          "execution_count": 53
        }
      ]
    },
    {
      "cell_type": "code",
      "source": [
        "\n",
        "\n",
        "import requests\n",
        "from docx import Document\n",
        "import os\n",
        "\n",
        "subscription_key = \"5GEc9wL2cnIYmJ3XmNGZ8XjQpKerIghlGJYRMzYGQOQQlOWLGzVaJQQJ99ALACHYHv6XJ3w3AAAbACOGAVz0\"  # Replace with your actual subscription key\n",
        "endpoint = \"https://api.cognitive.microsofttranslator.com/\"\n",
        "location = \"eastus2\"\n",
        "language_destination = \"pt-br\"\n",
        "\n",
        "def translator_text(text, language_destination):\n",
        "    path = '/translate'\n",
        "    constructed_url = endpoint + path\n",
        "    headers = {\n",
        "        'ocp-apim-subscription-key': subscription_key,\n",
        "        'Ocp-Apim-Subscription-Region': location,\n",
        "        'Content-type': 'application/json',\n",
        "        'X-ClientTraceId': str(os.urandom(16))\n",
        "    }\n",
        "    body = [{'text': text}]\n",
        "\n",
        "    params = {\n",
        "        'api-version': '3.0',\n",
        "        'from': 'es',\n",
        "        'to': language_destination\n",
        "    }\n",
        "    request = requests.post(constructed_url, params=params, headers=headers, json=body)\n",
        "    response = request.json()\n",
        "\n",
        "\n",
        "    if \"translations\" in response[0] and response[0][\"translations\"]:\n",
        "      return response[0][\"translations\"][0][\"text\"]\n",
        "    else:\n",
        "      print(f\"Error translating text: {response}\")\n",
        "      return text\n",
        "\n",
        "\n",
        "def translator_document(path, language_destination):\n",
        "    document = Document(path)\n",
        "    full_text = []\n",
        "    for paragraph in document.paragraphs:\n",
        "        translated_text = translator_text(paragraph.text, language_destination)\n",
        "        full_text.append(translated_text)\n",
        "\n",
        "    translated_doc = Document()\n",
        "    for line in full_text:\n",
        "        translated_doc.add_paragraph(line)\n",
        "    path_translated = path.replace(\".docx\", f\"_{language_destination}.docx\")\n",
        "    translated_doc.save(path_translated)\n",
        "    return path_translated\n",
        "\n",
        "input_file = \"/content/Sure.docx\"\n",
        "output_file_path = translator_document(input_file, language_destination)\n",
        "print(f\"Translated document saved to: {output_file_path}\")"
      ],
      "metadata": {
        "colab": {
          "base_uri": "https://localhost:8080/"
        },
        "id": "MZCs1JEkrZe6",
        "outputId": "ffd0ff88-944f-4c3e-f7f1-abb3612296e8"
      },
      "execution_count": 56,
      "outputs": [
        {
          "output_type": "stream",
          "name": "stdout",
          "text": [
            "Translated document saved to: /content/Sure_pt-br.docx\n"
          ]
        }
      ]
    },
    {
      "cell_type": "code",
      "source": [
        "!pip install requests beautifulsoup4 openai langchain-openai"
      ],
      "metadata": {
        "colab": {
          "base_uri": "https://localhost:8080/"
        },
        "collapsed": true,
        "id": "Cu_sAIKZtuRi",
        "outputId": "a38278b1-3d8f-410a-96a6-d86c5daf6bfc"
      },
      "execution_count": 57,
      "outputs": [
        {
          "output_type": "stream",
          "name": "stdout",
          "text": [
            "Requirement already satisfied: requests in /usr/local/lib/python3.10/dist-packages (2.32.3)\n",
            "Requirement already satisfied: beautifulsoup4 in /usr/local/lib/python3.10/dist-packages (4.12.3)\n",
            "Requirement already satisfied: openai in /usr/local/lib/python3.10/dist-packages (1.54.4)\n",
            "Collecting langchain-openai\n",
            "  Downloading langchain_openai-0.2.10-py3-none-any.whl.metadata (2.6 kB)\n",
            "Requirement already satisfied: charset-normalizer<4,>=2 in /usr/local/lib/python3.10/dist-packages (from requests) (3.4.0)\n",
            "Requirement already satisfied: idna<4,>=2.5 in /usr/local/lib/python3.10/dist-packages (from requests) (3.10)\n",
            "Requirement already satisfied: urllib3<3,>=1.21.1 in /usr/local/lib/python3.10/dist-packages (from requests) (2.2.3)\n",
            "Requirement already satisfied: certifi>=2017.4.17 in /usr/local/lib/python3.10/dist-packages (from requests) (2024.8.30)\n",
            "Requirement already satisfied: soupsieve>1.2 in /usr/local/lib/python3.10/dist-packages (from beautifulsoup4) (2.6)\n",
            "Requirement already satisfied: anyio<5,>=3.5.0 in /usr/local/lib/python3.10/dist-packages (from openai) (3.7.1)\n",
            "Requirement already satisfied: distro<2,>=1.7.0 in /usr/local/lib/python3.10/dist-packages (from openai) (1.9.0)\n",
            "Requirement already satisfied: httpx<1,>=0.23.0 in /usr/local/lib/python3.10/dist-packages (from openai) (0.27.2)\n",
            "Requirement already satisfied: jiter<1,>=0.4.0 in /usr/local/lib/python3.10/dist-packages (from openai) (0.7.1)\n",
            "Requirement already satisfied: pydantic<3,>=1.9.0 in /usr/local/lib/python3.10/dist-packages (from openai) (2.9.2)\n",
            "Requirement already satisfied: sniffio in /usr/local/lib/python3.10/dist-packages (from openai) (1.3.1)\n",
            "Requirement already satisfied: tqdm>4 in /usr/local/lib/python3.10/dist-packages (from openai) (4.66.6)\n",
            "Requirement already satisfied: typing-extensions<5,>=4.11 in /usr/local/lib/python3.10/dist-packages (from openai) (4.12.2)\n",
            "Collecting langchain-core<0.4.0,>=0.3.21 (from langchain-openai)\n",
            "  Downloading langchain_core-0.3.21-py3-none-any.whl.metadata (6.3 kB)\n",
            "Collecting tiktoken<1,>=0.7 (from langchain-openai)\n",
            "  Downloading tiktoken-0.8.0-cp310-cp310-manylinux_2_17_x86_64.manylinux2014_x86_64.whl.metadata (6.6 kB)\n",
            "Requirement already satisfied: exceptiongroup in /usr/local/lib/python3.10/dist-packages (from anyio<5,>=3.5.0->openai) (1.2.2)\n",
            "Requirement already satisfied: httpcore==1.* in /usr/local/lib/python3.10/dist-packages (from httpx<1,>=0.23.0->openai) (1.0.7)\n",
            "Requirement already satisfied: h11<0.15,>=0.13 in /usr/local/lib/python3.10/dist-packages (from httpcore==1.*->httpx<1,>=0.23.0->openai) (0.14.0)\n",
            "Requirement already satisfied: PyYAML>=5.3 in /usr/local/lib/python3.10/dist-packages (from langchain-core<0.4.0,>=0.3.21->langchain-openai) (6.0.2)\n",
            "Requirement already satisfied: jsonpatch<2.0,>=1.33 in /usr/local/lib/python3.10/dist-packages (from langchain-core<0.4.0,>=0.3.21->langchain-openai) (1.33)\n",
            "Requirement already satisfied: langsmith<0.2.0,>=0.1.125 in /usr/local/lib/python3.10/dist-packages (from langchain-core<0.4.0,>=0.3.21->langchain-openai) (0.1.143)\n",
            "Requirement already satisfied: packaging<25,>=23.2 in /usr/local/lib/python3.10/dist-packages (from langchain-core<0.4.0,>=0.3.21->langchain-openai) (24.2)\n",
            "Requirement already satisfied: tenacity!=8.4.0,<10.0.0,>=8.1.0 in /usr/local/lib/python3.10/dist-packages (from langchain-core<0.4.0,>=0.3.21->langchain-openai) (9.0.0)\n",
            "Requirement already satisfied: annotated-types>=0.6.0 in /usr/local/lib/python3.10/dist-packages (from pydantic<3,>=1.9.0->openai) (0.7.0)\n",
            "Requirement already satisfied: pydantic-core==2.23.4 in /usr/local/lib/python3.10/dist-packages (from pydantic<3,>=1.9.0->openai) (2.23.4)\n",
            "Requirement already satisfied: regex>=2022.1.18 in /usr/local/lib/python3.10/dist-packages (from tiktoken<1,>=0.7->langchain-openai) (2024.9.11)\n",
            "Requirement already satisfied: jsonpointer>=1.9 in /usr/local/lib/python3.10/dist-packages (from jsonpatch<2.0,>=1.33->langchain-core<0.4.0,>=0.3.21->langchain-openai) (3.0.0)\n",
            "Requirement already satisfied: orjson<4.0.0,>=3.9.14 in /usr/local/lib/python3.10/dist-packages (from langsmith<0.2.0,>=0.1.125->langchain-core<0.4.0,>=0.3.21->langchain-openai) (3.10.11)\n",
            "Requirement already satisfied: requests-toolbelt<2.0.0,>=1.0.0 in /usr/local/lib/python3.10/dist-packages (from langsmith<0.2.0,>=0.1.125->langchain-core<0.4.0,>=0.3.21->langchain-openai) (1.0.0)\n",
            "Downloading langchain_openai-0.2.10-py3-none-any.whl (50 kB)\n",
            "\u001b[2K   \u001b[90m━━━━━━━━━━━━━━━━━━━━━━━━━━━━━━━━━━━━━━━━\u001b[0m \u001b[32m50.6/50.6 kB\u001b[0m \u001b[31m1.7 MB/s\u001b[0m eta \u001b[36m0:00:00\u001b[0m\n",
            "\u001b[?25hDownloading langchain_core-0.3.21-py3-none-any.whl (409 kB)\n",
            "\u001b[2K   \u001b[90m━━━━━━━━━━━━━━━━━━━━━━━━━━━━━━━━━━━━━━━━\u001b[0m \u001b[32m409.5/409.5 kB\u001b[0m \u001b[31m8.4 MB/s\u001b[0m eta \u001b[36m0:00:00\u001b[0m\n",
            "\u001b[?25hDownloading tiktoken-0.8.0-cp310-cp310-manylinux_2_17_x86_64.manylinux2014_x86_64.whl (1.2 MB)\n",
            "\u001b[2K   \u001b[90m━━━━━━━━━━━━━━━━━━━━━━━━━━━━━━━━━━━━━━━━\u001b[0m \u001b[32m1.2/1.2 MB\u001b[0m \u001b[31m28.1 MB/s\u001b[0m eta \u001b[36m0:00:00\u001b[0m\n",
            "\u001b[?25hInstalling collected packages: tiktoken, langchain-core, langchain-openai\n",
            "  Attempting uninstall: langchain-core\n",
            "    Found existing installation: langchain-core 0.3.19\n",
            "    Uninstalling langchain-core-0.3.19:\n",
            "      Successfully uninstalled langchain-core-0.3.19\n",
            "Successfully installed langchain-core-0.3.21 langchain-openai-0.2.10 tiktoken-0.8.0\n"
          ]
        }
      ]
    },
    {
      "cell_type": "code",
      "source": [
        "\n",
        "import requests\n",
        "from bs4 import BeautifulSoup\n",
        "\n",
        "def extract_text_from_url(url):\n",
        "          response = requests.get(url)\n",
        "          if response.status_code == 200:\n",
        "            soup = BeautifulSoup(response.content, \"html.parser\")\n",
        "            for script_or_style in soup([\"script\", \"style\"]):\n",
        "              script_or_style.decompose()\n",
        "            texto = soup.get_text(separator= ' ')\n",
        "            lines = (line.strip() for line in texto.splitlines())\n",
        "            chunks = (phrase.strip() for line in lines for phrase in line.split(\"  \"))\n",
        "            text = '\\n'.join(chunk for chunk in chunks if chunk)\n",
        "          else:\n",
        "            print(f\"Failed to fetch the URL. Status code: {response.status_code}\")\n",
        "            return None\n",
        "\n",
        "          text = soup.get_text()\n",
        "          return text\n",
        "\n",
        "extracted_text = extract_text_from_url('https://dev.to/mukhilpadmanabhan/browser-extensions-a-frontend-developers-guide-to-building-and-deploying-custom-extensions-bkd')\n",
        "print(extracted_text)"
      ],
      "metadata": {
        "id": "sanVL020uFkp"
      },
      "execution_count": null,
      "outputs": []
    },
    {
      "cell_type": "code",
      "source": [
        "import os\n",
        "import openai\n",
        "import requests\n",
        "from docx import Document\n",
        "from bs4 import BeautifulSoup\n",
        "\n",
        "openai.api_key = \"DKgyK0N6ZKsUPCuSJRWKgutzvuZWquC7QX1q205XxiUCqexhYnlwJQQJ99ALACfhMk5XJ3w3AAAAACOGrTYP\"\n",
        "\n",
        "\n",
        "def send_to_azure_openai(text):\n",
        "    try:\n",
        "        response = openai.Completion.create(\n",
        "            engine=\"gpt-4-32k\",\n",
        "            prompt=text,\n",
        "            max_tokens=500,\n",
        "            n=1,\n",
        "            stop=None,\n",
        "            temperature=0.7,\n",
        "        )\n",
        "        markdown_response = response.choices[0].text.strip()\n",
        "        return markdown_response\n",
        "    except Exception as e:\n",
        "        print(f\"Error communicating with Azure OpenAI: {e}\")\n",
        "        return None\n",
        "\n",
        "\n",
        "extracted_text = extract_text_from_url('https://diego-m45rgehn-swedencentral.cognitiveservices.azure.com/openai/deployments/gpt-4-32k/chat/completions?api-version=2024-08-01-preview')\n",
        "\n",
        "if extracted_text:\n",
        "    markdown_output = send_to_azure_openai(extracted_text)\n",
        "    if markdown_output:\n",
        "        print(markdown_output)\n",
        "    else:\n",
        "        print(\"Failed to get a response from Azure OpenAI.\")\n",
        "else:\n",
        "    print(\"Text extraction failed.\")"
      ],
      "metadata": {
        "colab": {
          "base_uri": "https://localhost:8080/"
        },
        "id": "vF3ZYs2nArxu",
        "outputId": "c48470a0-cb5f-419f-e91a-566c4104955e"
      },
      "execution_count": 87,
      "outputs": [
        {
          "output_type": "stream",
          "name": "stdout",
          "text": [
            "Failed to fetch the URL. Status code: 404\n",
            "Text extraction failed.\n"
          ]
        }
      ]
    },
    {
      "cell_type": "code",
      "source": [],
      "metadata": {
        "id": "kfk4hICtATQ2"
      },
      "execution_count": null,
      "outputs": []
    },
    {
      "cell_type": "code",
      "source": [
        "url = 'https://dev.to/mukhilpadmanabhan/browser-extensions-a-frontend-developers-guide-to-building-and-deploying-custom-extensions-bkd'\n",
        "text = extract_text_from_url(url)\n",
        "article = text.split('\\n')\n",
        "print(article)"
      ],
      "metadata": {
        "colab": {
          "base_uri": "https://localhost:8080/"
        },
        "id": "cxUxlar2_Kle",
        "outputId": "adb3285a-899b-4e14-e79f-427b4ff3efc5"
      },
      "execution_count": 88,
      "outputs": [
        {
          "output_type": "stream",
          "name": "stdout",
          "text": [
            "['', '', '', '', \"Browser Extensions: A Frontend Developer's Guide to Building and Deploying Custom Extensions - DEV Community\", '', '', '', '', '', '', '', '', '', '', '', '', '', '', '', '', '', '', '', '', '', '', '', '', '', '', '', '', '', '', '', '', '', '', '', '', '', '', '', '', '', '', '', '', '', '', '', '', '', '', '', '', '', '', '', '', '', '', 'Skip to content', '', '', '', 'Navigation menu', '', '', '', '', '', '', '', '', '', '', '', '', '', 'Search', '', '', '', '', '                Powered by', '                Search', '', '', '', '                Algolia', '            ', '', '', '', '', '', '', 'Search', '', '', '', '', '', '', '              Log in', '            ', '', '', '            Create account', '          ', '', '', '', '', '', '', '', 'DEV Community', '', 'Close', '', '', '', '', '', '', '', '', '', '', '', '', '', '', '', '', '', '', '', '', '', '', '', '', '', '', '', '', '', '', '', '', '', '', '', '', '', '', '', '', '', '', '', '        Add reaction', '      ', '', '', '', '', '', '', '', '', '', '      Like', '    ', '', '', '', '', '', '', '', '      Unicorn', '    ', '', '', '', '', '', '', '', '      Exploding Head', '    ', '', '', '', '', '', '', '', '      Raised Hands', '    ', '', '', '', '', '', '', '', '      Fire', '    ', '', '', '', '', '', '', '', '', '', '', '', '', '', '', '      Jump to Comments', '    ', '', '', '', '', '', '', '', '', '', '      Save', '    ', '', '', '', '', '', '', '', '', '      Boost', '    ', '', '', '', '', '', 'More...', '', '', '', '', 'Copy link', 'Copy link', '', '', '', 'Copied to Clipboard', '', '', '', '            Share to X', '          ', '', '            Share to LinkedIn', '          ', '', '            Share to Facebook', '          ', '', '            Share to Mastodon', '          ', '', '', '', '', 'Report Abuse', '', '', '', '', '', '', '', '', '', '', '', '', '', '', '', '', '', '', '', '', 'Mukhil Padmanabhan', '', '                      Posted on Dec 1', '', '', '', '', '', '', '', '\\xa0', '', '', '', '\\xa0', '', '', '', '\\xa0', '', '', '', '\\xa0', '', '', '', '\\xa0', '', '', '', \"              Browser Extensions: A Frontend Developer's Guide to Building and Deploying Custom Extensions\", '            ', '', '#browser', '#programming', '#webdev', '#beginners', '', '', '', '', '', 'Have you ever wished your browser could do just a little more for you—like automating a repetitive task or adding a feature that saves you time? Imagine having a button that instantly copies a commonly used snippet of text or an icon that takes you to your favorite API documentation in a single click. That’s the magic of browser extensions! I recently became quite obsessed with this topic, hunted down how they work, and have so much I’m excited to share. If you are either interested or someone looking for something fun to build, definitely stick around while we dive into the world of browser extensions and even building and publishing our own from scratch.', '', '', '', '', '', '  What Are Browser Extensions?', '', 'Are you new to browser extensions? Or are you a seasoned vet wanting to brush up on your knowledge? Well, look no further. 😄', 'Browser extensions are extra features or functionalities that you can add to your browser. Just think of these extensions as tiny applications that add specific features or functions to your browser and create ease in doing so.', 'Popular Browser Extensions have been listed below:', 'Grammarly: It is your personal proofreader which helps you to write clear and mistake-free content on the Web.', 'AdBlock Plus: This will save your sanity and block all those pesky ads that pop up on websites.', 'Honey: This turns you into a shopping genius by automatically finding and applying the best coupons when you check out online.', 'Why Build Your Own Extension?', 'Automate Repetitive Tasks: Tired of filling out the same forms or copying the same data over and over? Not a problem when you build your own extension.', 'Customize Your Workflow: Ever imagined if your browser would have a feature which is made just for you? Yes, You can make it!', 'Solve Unique Problems: If you have something in mind which is so specific that there isn’t an extension for it. Build your own and solve it your way.', 'Browser extensions are more than tools, they’re a way to make the internet your own. So, you want to truly personalize your browser? Let’s get started!', '', '', '', '', '', '', '', '', 'How Browser Extensions Work', '', 'Browser extensions are made up of several key components:', '', '', 'Manifest File: The configuration file that defines the extension’s metadata and permissions.', '', 'HTML/CSS/JavaScript Files: The files that define the extension’s UI and functionality.', '', 'Background Scripts: These scripts run in the background and perform actions like listening for browser events.', '', 'Content Scripts: These scripts interact directly with web pages.', '', '', '', '', '', 'Step-by-Step Guide: Building a Simple Chrome Extension', '', 'Let’s create a browser extension that changes the background color of any webpage with a single click.', '', '', '', '1. Set Up the Project', '', '', 'Create a folder called my-first-extension.', 'Inside the folder, create these files:', '', '', 'manifest.json', 'popup.html', 'popup.js', '(Optional) styles.css', '', '', '', '', '', '', '', '2. Create the Manifest File', '', 'The manifest.json file is the backbone of your extension. Here’s what it might look like:', '', 'NOTE: Make sure you add your own \"icon.png\".', '', '', '', '3. Design the Popup UI', '', 'The popup.html file defines the UI for your extension’s popup window.', '', '', '', '', '4. Add Functionality with JavaScript', '', 'The popup.js file contains the logic for changing the background color.', '', '', '', '', '5. Load the Extension in Chrome', '', '', 'Open Chrome and go to chrome://extensions.', 'Enable Developer Mode.', 'Click Load Unpacked and select your extension folder.', 'Your extension will now appear in the extensions toolbar!', '', '', '', '', '6. Test It Out', '', '', 'Click on the extension icon.', 'Use the buttons to change the background color of any webpage.', '', '', '', '', '', '', 'Publishing to the Chrome Web Store', '', 'Once your extension works as expected, you can share it with the world by publishing it to the Chrome Web Store.', '', '', '', '  Steps to Publish:', '', '', '', 'Zip Your Project:', '', '', 'Compress your extension folder (excluding unnecessary files like .DS_Store).', '', '', '', 'Sign In to the Chrome Web Store Developer Dashboard:', '', '', 'Go to the Chrome Web Store Developer Dashboard and log in.', '', '', '', 'Upload Your Extension:', '', '', 'Click \"Add New Item\" and upload your ZIP file.', '', '', '', 'Fill in the Details:', '', '', 'Provide a name, description, screenshots, and category for your extension.', '', '', '', 'Submit for Review:', '', '', 'Google will review your extension to ensure it meets their policies.', '', '', '', 'Publish:', '', '', 'Once approved, your extension will be live on the Chrome Web Store.', '', '', '', '', '', '', '', '  Example', '', 'You are a developer and you have several projects. You keep going to multiple pages of API documentation, and every time you need to type in the search query in your search engine  for that page manually. What if you could just install a browser extension which adds a simple menu with buttons to your browser. You configure API links in the beginning, then anytime when you need to open a particular url - just click on the corresponding link button! Can it be easier? One click away from not typing anything, no context switches or distractions. Your personal assistant inside your browser.', '', '', '', '', '  Conclusion', '', 'Browser extensions are not just tools, they’re a chance to fix what annoys you in your daily interactions, streamline your work and add that bit of spark to your experience with the web. And when you learn how to build them, it’s not just one more thing you can do — it’s like opening Neo’s door; suddenly, you realize that the browser is yours.', 'I hope this post will encourage you to start building browser extensions today. Create something simple or downright ridiculous and put it out there. Let’s continue exploring and making the web an awesome place to be together.', 'Happy coding, and may your extensions never be buggy!', '', '', '', '', '', '', '', '            Top comments (0)', '', '', '', '', 'Subscribe', '', '', '', '', '', '', '', '', '', '', '', '', '', '', '', '', '', '', '', '', 'Personal', 'Trusted User', '', '', '', '', '', '', '        Create template', '      ', 'Templates let you quickly answer FAQs or store snippets for re-use.', '', '', '', 'Submit', 'Preview', 'Dismiss', '', '', '', '', '', '', '', '', '', 'Code of Conduct', '•', 'Report abuse', '', '', '', '', '', '', '', \"        Are you sure you want to hide this comment? It will become hidden in your post, but will still be visible via the comment's permalink.\", '      ', '', '', 'Hide child comments as well', '', '', '', '          Confirm', '        ', '', '', ' For further actions, you may consider blocking this person and/or reporting abuse', '', '', '', '', '', '', 'Read next', '', '', '', '', '', '', '3d Cards matching game using html css and javascript follow us on instagram: https://www.instagram.com/webstreet_code/', '', '              Prince - Nov 21', '', '', '', '', '', '', '', '', '', '', 'Tailwind v4 is here! Learn how to upgrade your current project and explore the new features with Flowbite', '', '              Zoltán Szőgyényi - Nov 24', '', '', '', '', '', '', '', '', '', '', 'Maximize Your Coding Efficiency with These Sublime Text Plugins 🖥️', '', '              Badlesh Mishra - Nov 20', '', '', '', '', '', '', '', '', '', '', 'How Artificial Intelligence and Data Science Work Together to Solve Complex Problems in 2025', '', '              Vikas76 - Nov 20', '', '', '', '', '', '', '', '', '', '', '', '', '', '', '', '', '      Mukhil Padmanabhan', '      ', '    ', '', '', '', 'Follow', '', '', '    Experienced Full Stack Developer skilled in React, Node.js, and MongoDB. Passionate about building scalable apps and mentoring teams to achieve their best.', '  ', '', '', '', '', '            Location', '          ', '', '            United Kingdom', '          ', '', '', '', '              Work', '            ', '', '              Lead Full Stack Developer at SNB Group', '            ', '', '', '', '          Joined', '        ', '', 'Jul 1, 2020', '', '', '', '', '', '', '', '', '            More from Mukhil Padmanabhan', '', '', '', '', '              Browser APIs: Must-Know Secrets for Every Frontend Developer!', '              ', '#browserapi', '#webdev', '#api', '#beginners', '', '', '', '              The Top Technology Bridging Web and Mobile: Progressive Web Apps ( PWA )', '              ', '#pwa', '#webdev', '#programming', '#beginners', '', '', '', '              Inside JavaScript Engines: How Browsers Bring Your Code to Life', '              ', '#javascript', '#webdev', '#programming', '#beginners', '', '', '', '', '', '', '', '', '', '', '', '', '', '', '', '', '', '', '', '', '', '', '', '\\r', 'Thank you to our Diamond Sponsor Neon for supporting our community.\\r', '', '', '', 'DEV Community — A constructive and inclusive social network for software developers. With you every step of your journey.', '    ', '', '', '', '      Home', '    ', '', '', '', '', '      DEV++', '    ', '', '', '', '', '      Podcasts', '    ', '', '', '', '', '      Videos', '    ', '', '', '', '', '      Tags', '    ', '', '', '', '', '      DEV Help', '    ', '', '', '', '', '      Forem Shop', '    ', '', '', '', '', '      Advertise on DEV', '    ', '', '', '', '', '      DEV Challenges', '    ', '', '', '', '', '      DEV Showcase', '    ', '', '', '', '', '      About', '    ', '', '', '', '', '      Contact', '    ', '', '', '', '', '      Free Postgres Database', '    ', '', '', '', '', '      Guides', '    ', '', '', '', '', '      Software comparisons', '    ', '', '', '', '', '', '', '      Code of Conduct', '    ', '', '', '', '', '      Privacy Policy', '    ', '', '', '', '', '      Terms of use', '    ', '', '', '', '', 'Built on Forem — the open source software that powers DEV and other inclusive communities.', 'Made with love and Ruby on Rails. DEV Community © 2016 - 2024.', '', '', '', '', '', '', '', '', '', '', '', \"          We're a place where coders share, stay up-to-date and grow their careers.\", '      ', '', '', '', '        Log in', '      ', '', '        Create account', '      ', '', '', '', '', '', '', '', '', '', '', '', '', '', '', '', '']\n"
          ]
        }
      ]
    }
  ]
}